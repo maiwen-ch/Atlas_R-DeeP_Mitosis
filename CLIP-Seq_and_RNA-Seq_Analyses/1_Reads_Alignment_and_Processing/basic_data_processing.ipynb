{
 "cells": [
  {
   "cell_type": "markdown",
   "id": "869e5265-68b4-4e83-b9af-342cf227fc88",
   "metadata": {
    "tags": []
   },
   "source": [
    "### Unzip unprocessed fastq"
   ]
  },
  {
   "cell_type": "code",
   "execution_count": 1,
   "id": "0bdb3b66-e223-4c60-8461-a4907fae31e6",
   "metadata": {},
   "outputs": [
    {
     "name": "stdout",
     "output_type": "stream",
     "text": [
      "/omics/odcf/analysis/OE0284_projects/clipseq/users/varshni\n"
     ]
    }
   ],
   "source": [
    "pwd"
   ]
  },
  {
   "cell_type": "code",
   "execution_count": null,
   "id": "8c576678-cd6b-45c1-8d96-cc03a21d2588",
   "metadata": {
    "collapsed": true,
    "jupyter": {
     "outputs_hidden": true
    },
    "tags": []
   },
   "outputs": [
    {
     "name": "stdout",
     "output_type": "stream",
     "text": [
      "bash: cd: unprocessed_fastq/run230322_NB552269_0349_AH3CT5BGXT: No such file or directory\n"
     ]
    },
    {
     "ename": "",
     "evalue": "1",
     "output_type": "error",
     "traceback": []
    }
   ],
   "source": [
    "cd unprocessed_fastq/run230322_NB552269_0349_AH3CT5BGXT"
   ]
  },
  {
   "cell_type": "code",
   "execution_count": 3,
   "id": "47f86a36-0638-4613-ac4d-1e950807e798",
   "metadata": {},
   "outputs": [
    {
     "name": "stdout",
     "output_type": "stream",
     "text": [
      "AS-954459-LR-68266_R1.fastq.gz\tAS-954459-LR-68266_R1.fastq.gz.md5sum\n"
     ]
    }
   ],
   "source": [
    "ls"
   ]
  },
  {
   "cell_type": "code",
   "execution_count": 6,
   "id": "9c46de59-7bb3-4060-aeb4-62e6c31db38e",
   "metadata": {},
   "outputs": [
    {
     "name": "stdout",
     "output_type": "stream",
     "text": [
      "/omics/odcf/analysis/OE0284_projects/clipseq/users/varshni/unprocessed_fastq/run230322_NB552269_0349_AH3CT5BGXT\n"
     ]
    }
   ],
   "source": [
    "pwd"
   ]
  },
  {
   "cell_type": "code",
   "execution_count": null,
   "id": "90abb9bb-c877-406c-b77e-2e08df4e9321",
   "metadata": {},
   "outputs": [],
   "source": [
    "bsub -R \"rusage[mem=10G]\" -W 2:00 bash unzip.sh"
   ]
  },
  {
   "cell_type": "markdown",
   "id": "5c3db5c5-10c2-4e6a-a58f-f6b3d5ebae4a",
   "metadata": {
    "tags": []
   },
   "source": [
    "### quality_filter of barcodes"
   ]
  },
  {
   "cell_type": "code",
   "execution_count": 8,
   "id": "829d81f5-63e6-45a9-9161-f853e4cc53af",
   "metadata": {},
   "outputs": [],
   "source": [
    "cd /omics/odcf/analysis/OE0284_projects/clipseq/users/varshni/quality_filter\n"
   ]
  },
  {
   "cell_type": "code",
   "execution_count": 9,
   "id": "9aca8238-0643-4ebd-8e55-56b57ae72f85",
   "metadata": {},
   "outputs": [
    {
     "name": "stdout",
     "output_type": "stream",
     "text": [
      "/omics/odcf/analysis/OE0284_projects/clipseq/users/varshni/quality_filter\n"
     ]
    }
   ],
   "source": [
    "pwd"
   ]
  },
  {
   "cell_type": "code",
   "execution_count": null,
   "id": "7b45918a-4e2e-4639-8bce-b00839679a87",
   "metadata": {},
   "outputs": [],
   "source": [
    "bsub -R \"rusage[mem=12G]\" -n 12 -W 12:00 bash quality_filter.sh"
   ]
  },
  {
   "cell_type": "code",
   "execution_count": null,
   "id": "a6b909ec-5666-4997-9dc7-868031f0055e",
   "metadata": {},
   "outputs": [],
   "source": [
    "Resource usage summary:\n",
    "\n",
    "    CPU time :                                   13063.20 sec.\n",
    "    Max Memory :                                 7 MB\n",
    "    Average Memory :                             7.00 MB\n",
    "    Total Requested Memory :                     12288.00 MB\n",
    "    Delta Memory :                               12281.00 MB\n",
    "    Max Swap :                                   -\n",
    "    Max Processes :                              8\n",
    "    Max Threads :                                9\n",
    "    Run time :                                   10515 sec.\n",
    "    Turnaround time :                            10516 sec.\n",
    "\n",
    "The output (if any) follows:\n",
    "\n",
    "mkdir: cannot create directory ‘tmp’: File exists"
   ]
  },
  {
   "cell_type": "code",
   "execution_count": null,
   "id": "aa25d7a5-0ebb-4657-9d87-04096e1003ae",
   "metadata": {},
   "outputs": [],
   "source": [
    "wc -l (no. of lines): total reads from fastQC html- no of of line in the new qualityfilter file= no. of reads trashed\n",
    "                                           #### 444250598 - 444031641 =218,957 reads discarded"
   ]
  },
  {
   "cell_type": "markdown",
   "id": "e3e08d04-9de7-402c-a255-fd1066263a7d",
   "metadata": {
    "tags": []
   },
   "source": [
    "### To match and extract the reads from original zip file to the quality filtered ID's"
   ]
  },
  {
   "cell_type": "code",
   "execution_count": null,
   "id": "d61b07f7-ac0e-43eb-a375-0082dda6dbf7",
   "metadata": {},
   "outputs": [],
   "source": [
    "bsub -R \"rusage[mem=100G]\" -n 8 -W 24:00 bash filtered_reads.sh"
   ]
  },
  {
   "cell_type": "code",
   "execution_count": null,
   "id": "9787ca75-a84b-416d-91c1-45ef2930e961",
   "metadata": {},
   "outputs": [],
   "source": [
    "Resource usage summary:\n",
    "\n",
    "    CPU time :                                   37715.39 sec.\n",
    "    Max Memory :                                 80458 MB\n",
    "    Average Memory :                             78763.24 MB\n",
    "    Total Requested Memory :                     102400.00 MB\n",
    "    Delta Memory :                               21942.00 MB\n",
    "    Max Swap :                                   -\n",
    "    Max Processes :                              6\n",
    "    Max Threads :                                7\n",
    "    Run time :                                   24505 sec.\n",
    "    Turnaround time :                            24703 sec.\n",
    "\n",
    "The output (if any) follows:"
   ]
  },
  {
   "cell_type": "code",
   "execution_count": null,
   "id": "eabf0846-3358-4fef-a416-bd2a6d5f65a2",
   "metadata": {},
   "outputs": [],
   "source": [
    "## To find the no of reads filtered after barcode quality filter\n",
    "#  zcat data.filtered.fastq.gz | wc -l\n",
    "#  1776126564\n",
    "# 1776126564/4(because fastq file has ID,reads,spacer and quality. So divide by 4 to actually know total no of readsin the file) = 444031641 (no of reads in quality filtered barcode)\n"
   ]
  },
  {
   "cell_type": "markdown",
   "id": "d7381da2-4c21-4062-b2e8-b703e755b4ec",
   "metadata": {},
   "source": [
    "### To identify the barcode frequencies"
   ]
  },
  {
   "cell_type": "code",
   "execution_count": null,
   "id": "9c2ee541-e4a8-4e1a-851d-8af7c33e91b5",
   "metadata": {},
   "outputs": [],
   "source": [
    "Check this path from Simona to create directories for barcode freq step:\n",
    "ls /omics/odcf/analysis/OE0284_projects/clipseq/users/simona/TPX2_iCLIP2_2023/bcFreq_demulti_trimming/\n"
   ]
  },
  {
   "cell_type": "code",
   "execution_count": null,
   "id": "4a70ea69-ab19-4224-a93d-0b2c61ac973f",
   "metadata": {},
   "outputs": [],
   "source": [
    "cd varshni/bcFreq_demulti_trimming/bc_freq"
   ]
  },
  {
   "cell_type": "code",
   "execution_count": null,
   "id": "b62cbcf6-1133-4292-8235-ecec92ba1a3b",
   "metadata": {},
   "outputs": [],
   "source": [
    "bsub -R \"rusage[mem=100G]\" -n 8 -W 24:00 -N -e bc_freq.error -o bc_freq.output bash bc_freq.sh"
   ]
  },
  {
   "cell_type": "code",
   "execution_count": null,
   "id": "5f285509-c169-4be7-b99f-eaeca21d4a5c",
   "metadata": {},
   "outputs": [],
   "source": [
    "submission ID: 19107898\n",
    "JOBID      USER    STAT  QUEUE      FROM_HOST   EXEC_HOST   JOB_NAME   SUBMIT_TIME\n",
    "19107898   v096l   PEND  verylong   odcf-vm133              *c_freq.sh Mar 31 20:00\n"
   ]
  },
  {
   "cell_type": "code",
   "execution_count": null,
   "id": "cd065186-931a-47c3-8c6a-1586e7c1f9a1",
   "metadata": {},
   "outputs": [],
   "source": [
    "Resource usage summary:\n",
    "\n",
    "    CPU time :                                   5656.64 sec.\n",
    "    Max Memory :                                 14 MB\n",
    "    Average Memory :                             12.91 MB\n",
    "    Total Requested Memory :                     102400.00 MB\n",
    "    Delta Memory :                               102386.00 MB\n",
    "    Max Swap :                                   -\n",
    "    Max Processes :                              8\n",
    "    Max Threads :                                9\n",
    "    Run time :                                   3718 sec.\n",
    "    Turnaround time :                            3889 sec.\n",
    "\n",
    "Read file <bc_freq.output> for stdout output of this job.\n",
    "Read file <bc_freq.error> for stderr output of this job.\n"
   ]
  },
  {
   "cell_type": "code",
   "execution_count": null,
   "id": "509f795f-b15b-4443-be9a-5831324b791c",
   "metadata": {},
   "outputs": [],
   "source": [
    "#To check no. of times the barcodes we used has been detected\n",
    "#cat exp_barcodes.detected-bash-4.2$\n",
    "#grep <barcode seq in rev complement> filename\n",
    "#91804032 ACATCG\n",
    "#87201242 CACTGT\n",
    "#89414701 AAGCTA\n",
    "#91450979 TTTCAC"
   ]
  },
  {
   "cell_type": "code",
   "execution_count": null,
   "id": "551a3f61-173b-4242-848f-833a891fce66",
   "metadata": {},
   "outputs": [],
   "source": [
    "Change the name of the file exp_barcodes.detected-bash-4.2$ to exp_barcodes.detected by:\n",
    "# mv exp_barcodes.detected-bash-4.2$ exp_barcodes.detected"
   ]
  },
  {
   "cell_type": "code",
   "execution_count": null,
   "id": "6ded131f-dda3-48a6-b310-ad2ecb22f806",
   "metadata": {},
   "outputs": [],
   "source": [
    "To see what are the top 10 barcodes freqeuntly detected: # (expected barcodes should be 10 fold higher than unexpected barcodes)\n",
    "# head exp_barcodes.detected-bash-4.2\\$\n",
    "91804032 ACATCG\n",
    "91450979 TTTCAC\n",
    "89414701 AAGCTA\n",
    "87201242 CACTGT\n",
    " 837218 TTCACC\n",
    " 741904 AAAAAA\n",
    " 734819 CATCGA\n",
    " 646178 CATCGC\n",
    " 625453 AGCTAC\n",
    " 599195 AGCTAT"
   ]
  },
  {
   "cell_type": "markdown",
   "id": "1638a99c-84f4-4d73-9579-a4d965bbc611",
   "metadata": {},
   "source": [
    "### To demultiplex \n"
   ]
  },
  {
   "cell_type": "code",
   "execution_count": null,
   "id": "376bdf52-6de4-453b-8de7-c489110ff569",
   "metadata": {},
   "outputs": [],
   "source": [
    "Copy the adaptor and barcode sequences in Jupyter note book and save them in .fasta format\n",
    "Copy the script from Simona and save as demulti_trimming.sh"
   ]
  },
  {
   "cell_type": "code",
   "execution_count": null,
   "id": "db2203bc-f283-4eb6-8d29-eddb3a47a60d",
   "metadata": {},
   "outputs": [],
   "source": [
    "Go to home, Copy the path to anaconda and flexbar to bash profile from the Simonas bash profile txt file\n",
    "Source it to show the path source .bash_profile\n",
    "lauch the script "
   ]
  },
  {
   "cell_type": "code",
   "execution_count": null,
   "id": "962c54f5-f64b-4213-a1e9-11c437cb4985",
   "metadata": {},
   "outputs": [],
   "source": [
    "bsub -R \"rusage[mem=4G]\" -n 8 -W 24:00 -N -e demulti_trimming.error -o demulti_trimming.output bash demulti_trimming.sh"
   ]
  },
  {
   "cell_type": "code",
   "execution_count": null,
   "id": "3b37c0cb-e91c-4fa1-baac-417067ed99b8",
   "metadata": {},
   "outputs": [],
   "source": [
    "JOBID      USER    STAT  QUEUE      FROM_HOST   EXEC_HOST   JOB_NAME   SUBMIT_TIME\n",
    "19131231   v096l   RUN   verylong   odcf-vm135  abi-cn24u12 *imming.sh Apr  3 15:46\n",
    "                                                abi-cn24u12\n",
    "                                                abi-cn24u12\n",
    "                                                abi-cn24u12\n",
    "                                                abi-cn24u12\n",
    "                                                abi-cn24u12\n",
    "                                                abi-cn24u12\n",
    "                                                abi-cn24u12"
   ]
  },
  {
   "cell_type": "code",
   "execution_count": null,
   "id": "8449b31e-5c01-4c49-be42-8785c96faffa",
   "metadata": {},
   "outputs": [],
   "source": [
    "Resource usage summary:\n",
    "\n",
    "    CPU time :                                   21188.17 sec.\n",
    "    Max Memory :                                 22 MB\n",
    "    Average Memory :                             21.87 MB\n",
    "    Total Requested Memory :                     4096.00 MB\n",
    "    Delta Memory :                               4074.00 MB\n",
    "    Max Swap :                                   -\n",
    "    Max Processes :                              4\n",
    "    Max Threads :                                5\n",
    "    Run time :                                   21175 sec.\n",
    "    Turnaround time :                            21176 sec.\n",
    "\n",
    "Read file <demulti_trimming.output> for stdout output of this job.\n",
    "Read file <demulti_trimming.error> for stderr output of this job\n"
   ]
  },
  {
   "cell_type": "code",
   "execution_count": null,
   "id": "fdc5ed85-f4c2-4d98-b702-d2c914b8573a",
   "metadata": {},
   "outputs": [],
   "source": [
    "To check the no of reads in each file and no of un assigned reads,\n",
    "Go to : # cd varshni/bcFreq_demulti_trimming/demulti_trim/\n",
    "# cat flexbarOut.log\n",
    "This file shows the statistics\n",
    "Flexbar - flexible barcode and adapter removal, version 3.5.0\n",
    "Developed with SeqAn, the library for sequence analysis\n",
    "\n",
    "Available on github.com/seqan/flexbar\n",
    "\n",
    "\n",
    "Local time:            Mon Apr  3 15:46:45 2023\n",
    "\n",
    "Number of threads:     1\n",
    "Bundled fragments:     256\n",
    "\n",
    "Target name:           flexbarOut\n",
    "File type:             fastq\n",
    "Reads file:            /home/v096l/varshni/quality_filter/data.filtered.fastq.gz\n",
    "Barcode file:          barcodes.fasta\n",
    "Adapter file:          adapter.fasta\n",
    "\n",
    "max-uncalled:          0\n",
    "min-read-length:       15\n",
    "\n",
    "barcode-trim-end:      LTAIL\n",
    "barcode-error-rate:    0\n",
    "barcode-match:         1\n",
    "barcode-mismatch:     -1\n",
    "barcode-gap:          -9\n",
    "\n",
    "adapter-trim-end:      RIGHT\n",
    "adapter-min-overlap:   1\n",
    "adapter-error-rate:    0.1\n",
    "adapter-match:         1\n",
    "adapter-mismatch:     -1\n",
    "adapter-gap:          -6\n",
    "\n",
    "Barcode:               Sequence:\n",
    "KIFC1_1                NNNNNACATCGNNNN\n",
    "KIFC1_2                NNNNNCACTGTNNNN\n",
    "KIFC1_3                NNNNNAAGCTANNNN\n",
    "KIFC1_4                NNNNNTTTCACNNNN\n",
    "\n",
    "Adapter:               Sequence:\n",
    "adapter                AGATCGGAAGAGCGGTTCAG\n",
    "\n",
    "\n",
    "Processing reads ...done.\n",
    "\n",
    "Elapsed time:       5 h 52 min 52 sec\n",
    "Processing speed:   20972 reads/s\n",
    "\n",
    "\n",
    "Adapter removal statistics\n",
    "==========================\n",
    "Adapter:            Overlap removal:    Full length:\n",
    "adapter             363670465           341252296\n",
    "\n",
    "Min, max, mean and median overlap: 1 / 22 / 19 / 20\n",
    "\n",
    "\n",
    "Output file statistics\n",
    "======================\n",
    "Read file:               flexbarOut_barcode_unassigned.fastq.gz\n",
    "  written reads          84057220\n",
    "  short reads            17693\n",
    "\n",
    "Read file:               flexbarOut_barcode_KIFC1_1.fastq.gz\n",
    "  written reads          90392802\n",
    "  short reads            1320921\n",
    "\n",
    "Read file:               flexbarOut_barcode_KIFC1_2.fastq.gz\n",
    "  written reads          85803928\n",
    "  short reads            1312963\n",
    "\n",
    "Read file:               flexbarOut_barcode_KIFC1_3.fastq.gz\n",
    "  written reads          87798740\n",
    "  short reads            1528323\n",
    "\n",
    "Read file:               flexbarOut_barcode_KIFC1_4.fastq.gz\n",
    "  written reads          89806619\n",
    "  short reads            1555612\n",
    "\n",
    "\n",
    "Filtering statistics\n",
    "====================\n",
    "Processed reads                   444031641\n",
    "  skipped due to uncalled bases      436820\n",
    "  short prior to adapter removal          0\n",
    "  finally skipped short reads       5735512\n",
    "Discarded reads overall             6172332\n",
    "Remaining reads                   437859309   (98%)\n",
    "\n",
    "Processed bases   74597315688\n",
    "Remaining bases   36083041047   (48% of input)\n",
    "\n",
    "\n",
    "Flexbar completed barcode removal within reads and adapter removal.\n"
   ]
  },
  {
   "cell_type": "markdown",
   "id": "3cb2322b-a0ce-466f-b84e-a6eff2dfbab7",
   "metadata": {},
   "source": [
    "### To check if the barcode and adapter sequences are trimmed"
   ]
  },
  {
   "cell_type": "code",
   "execution_count": null,
   "id": "1c4cf0cf-c4c2-4341-b2c7-3f11215f4b87",
   "metadata": {},
   "outputs": [],
   "source": [
    "Now, go to \n",
    "# cd varshni/bcFreq_demulti_trimming/demulti_trim/\n",
    "# zcat flexbarOut_barcode_KIFC1_1.fastq.gz\n",
    "Ctrl+C\n",
    "Copy the read ID in line 1 and sequences in line 2 and paste in jupyter note book test file"
   ]
  },
  {
   "cell_type": "code",
   "execution_count": null,
   "id": "3242ccbb-ec8d-45de-b0f8-3006a86a7305",
   "metadata": {},
   "outputs": [],
   "source": [
    "Go to quality filter\n",
    "# zcat data.filtered.fastq.gz | grep -A1 @NB552269:349:H3CT5BGXT:1:11101:24097:5358#1:N:0:1\n",
    "(A1 denotes line after the adapater reads line\n",
    "Copy the read ID in line 1 and sequences in line 2 and paste in jupyter note book test file\n"
   ]
  },
  {
   "cell_type": "code",
   "execution_count": null,
   "id": "ee5572f6-6c2d-470b-9652-599529038e6f",
   "metadata": {},
   "outputs": [],
   "source": [
    "Now in the test. txt file, check if the file in demulti_trim \" flexbarOut_barcode_KIFC1_1.fastq.gz\" has the adapter and barcode sequences.\n",
    "If you notice, the UMIs are maintained and are in the first line.\n",
    "Further the second line starts with the read sequences.\n"
   ]
  },
  {
   "cell_type": "code",
   "execution_count": null,
   "id": "5d6a81ae-8c33-4391-9f10-2c45e2b82263",
   "metadata": {},
   "outputs": [],
   "source": [
    "To run fastqc on these demultiplexed reads, make a new directory under bcFreq_demulti_trimming\n",
    "# mkdir fastqc\n",
    "Copy the script from Simona in Jupytr txt file and name it as fastqc.sh\n",
    "Now launch the script from fastqc"
   ]
  },
  {
   "cell_type": "code",
   "execution_count": null,
   "id": "0d11508e-caf1-4db3-a2dc-db2891d553f5",
   "metadata": {},
   "outputs": [],
   "source": [
    "bsub -R \"rusage[mem=1G]\" -n 5 -W 2:00 bash fastqc.sh"
   ]
  },
  {
   "cell_type": "code",
   "execution_count": null,
   "id": "9e9c9c1d-d1c4-4bec-a8c0-b0fe3b6dc472",
   "metadata": {},
   "outputs": [],
   "source": [
    "JOBID      USER    STAT  QUEUE      FROM_HOST   EXEC_HOST   JOB_NAME   SUBMIT_TIME\n",
    "19140540   v096l   RUN   long       odcf-vm133  odcf-cn31u1 *fastqc.sh Apr  4 11:07\n",
    "                                                odcf-cn31u19\n",
    "                                                odcf-cn31u19\n",
    "                                                odcf-cn31u19\n",
    "                                                odcf-cn31u19\n"
   ]
  },
  {
   "cell_type": "code",
   "execution_count": null,
   "id": "b6deb0c2-26c2-4143-88f1-f1dadb076315",
   "metadata": {},
   "outputs": [],
   "source": [
    "Resource usage summary:\n",
    "\n",
    "    CPU time :                                   1563.36 sec.\n",
    "    Max Memory :                                 342 MB\n",
    "    Average Memory :                             300.84 MB\n",
    "    Total Requested Memory :                     1024.00 MB\n",
    "    Delta Memory :                               682.00 MB\n",
    "    Max Swap :                                   -\n",
    "    Max Processes :                              4\n",
    "    Max Threads :                                19\n",
    "    Run time :                                   1561 sec.\n",
    "    Turnaround time :                            1564 sec.\n",
    "\n",
    "The output (if any) follows:\n",
    "\n",
    "Started analysis of flexbarOut_barcode_KIFC1_1.fastq.gz\n",
    "Approx 5% complete for flexbarOut_barcode_KIFC1_1.fastq.gz\n",
    "Approx 10% complete for flexbarOut_barcode_KIFC1_1.fastq.gz\n",
    "Approx 15% complete for flexbarOut_barcode_KIFC1_1.fastq.gz\n",
    "Approx 20% complete for flexbarOut_barcode_KIFC1_1.fastq.gz\n",
    "Approx 25% complete for flexbarOut_barcode_KIFC1_1.fastq.gz\n",
    "Approx 30% complete for flexbarOut_barcode_KIFC1_1.fastq.gz\n",
    "Approx 35% complete for flexbarOut_barcode_KIFC1_1.fastq.gz\n",
    "Approx 40% complete for flexbarOut_barcode_KIFC1_1.fastq.gz\n",
    "Approx 45% complete for flexbarOut_barcode_KIFC1_1.fastq.gz\n",
    "Approx 50% complete for flexbarOut_barcode_KIFC1_1.fastq.gz\n",
    "Approx 55% complete for flexbarOut_barcode_KIFC1_1.fastq.gz\n",
    "Approx 60% complete for flexbarOut_barcode_KIFC1_1.fastq.gz\n",
    "Approx 65% complete for flexbarOut_barcode_KIFC1_1.fastq.gz\n",
    "Approx 70% complete for flexbarOut_barcode_KIFC1_1.fastq.gz\n",
    "Approx 75% complete for flexbarOut_barcode_KIFC1_1.fastq.gz\n",
    "Approx 80% complete for flexbarOut_barcode_KIFC1_1.fastq.gz\n",
    "Approx 85% complete for flexbarOut_barcode_KIFC1_1.fastq.gz\n",
    "Approx 90% complete for flexbarOut_barcode_KIFC1_1.fastq.gz\n",
    "Approx 95% complete for flexbarOut_barcode_KIFC1_1.fastq.gz\n",
    "Analysis complete for flexbarOut_barcode_KIFC1_1.fastq.gz\n",
    "Started analysis of flexbarOut_barcode_KIFC1_2.fastq.gz\n",
    "Approx 5% complete for flexbarOut_barcode_KIFC1_2.fastq.gz\n",
    "Approx 10% complete for flexbarOut_barcode_KIFC1_2.fastq.gz\n",
    "Approx 15% complete for flexbarOut_barcode_KIFC1_2.fastq.gz\n",
    "Approx 20% complete for flexbarOut_barcode_KIFC1_2.fastq.gz\n",
    "Approx 25% complete for flexbarOut_barcode_KIFC1_2.fastq.gz\n",
    "Approx 30% complete for flexbarOut_barcode_KIFC1_2.fastq.gz\n",
    "Approx 35% complete for flexbarOut_barcode_KIFC1_2.fastq.gz\n",
    "Approx 40% complete for flexbarOut_barcode_KIFC1_2.fastq.gz\n",
    "Approx 45% complete for flexbarOut_barcode_KIFC1_2.fastq.gz\n",
    "Approx 50% complete for flexbarOut_barcode_KIFC1_2.fastq.gz\n",
    "Approx 55% complete for flexbarOut_barcode_KIFC1_2.fastq.gz\n",
    "Approx 60% complete for flexbarOut_barcode_KIFC1_2.fastq.gz\n",
    "Approx 65% complete for flexbarOut_barcode_KIFC1_2.fastq.gz\n",
    "Approx 70% complete for flexbarOut_barcode_KIFC1_2.fastq.gz\n",
    "Approx 75% complete for flexbarOut_barcode_KIFC1_2.fastq.gz\n",
    "Approx 80% complete for flexbarOut_barcode_KIFC1_2.fastq.gz\n",
    "Approx 85% complete for flexbarOut_barcode_KIFC1_2.fastq.gz\n",
    "Approx 90% complete for flexbarOut_barcode_KIFC1_2.fastq.gz\n",
    "Approx 95% complete for flexbarOut_barcode_KIFC1_2.fastq.gz\n",
    "Analysis complete for flexbarOut_barcode_KIFC1_2.fastq.gz\n",
    "Started analysis of flexbarOut_barcode_KIFC1_3.fastq.gz\n",
    "Approx 5% complete for flexbarOut_barcode_KIFC1_3.fastq.gz\n",
    "Approx 10% complete for flexbarOut_barcode_KIFC1_3.fastq.gz\n",
    "Approx 15% complete for flexbarOut_barcode_KIFC1_3.fastq.gz\n",
    "Approx 20% complete for flexbarOut_barcode_KIFC1_3.fastq.gz\n",
    "Approx 25% complete for flexbarOut_barcode_KIFC1_3.fastq.gz\n",
    "Approx 30% complete for flexbarOut_barcode_KIFC1_3.fastq.gz\n",
    "Approx 35% complete for flexbarOut_barcode_KIFC1_3.fastq.gz\n",
    "Approx 40% complete for flexbarOut_barcode_KIFC1_3.fastq.gz\n",
    "Approx 45% complete for flexbarOut_barcode_KIFC1_3.fastq.gz\n",
    "Approx 50% complete for flexbarOut_barcode_KIFC1_3.fastq.gz\n",
    "Approx 55% complete for flexbarOut_barcode_KIFC1_3.fastq.gz\n",
    "Approx 60% complete for flexbarOut_barcode_KIFC1_3.fastq.gz\n",
    "Approx 65% complete for flexbarOut_barcode_KIFC1_3.fastq.gz\n",
    "Approx 70% complete for flexbarOut_barcode_KIFC1_3.fastq.gz\n",
    "Approx 75% complete for flexbarOut_barcode_KIFC1_3.fastq.gz\n",
    "Approx 80% complete for flexbarOut_barcode_KIFC1_3.fastq.gz\n",
    "Approx 85% complete for flexbarOut_barcode_KIFC1_3.fastq.gz\n",
    "Approx 90% complete for flexbarOut_barcode_KIFC1_3.fastq.gz\n",
    "Approx 95% complete for flexbarOut_barcode_KIFC1_3.fastq.gz\n",
    "Analysis complete for flexbarOut_barcode_KIFC1_3.fastq.gz\n",
    "Started analysis of flexbarOut_barcode_KIFC1_4.fastq.gz\n",
    "Approx 5% complete for flexbarOut_barcode_KIFC1_4.fastq.gz\n",
    "Approx 10% complete for flexbarOut_barcode_KIFC1_4.fastq.gz\n",
    "Approx 15% complete for flexbarOut_barcode_KIFC1_4.fastq.gz\n",
    "Approx 20% complete for flexbarOut_barcode_KIFC1_4.fastq.gz\n",
    "Approx 25% complete for flexbarOut_barcode_KIFC1_4.fastq.gz\n",
    "Approx 30% complete for flexbarOut_barcode_KIFC1_4.fastq.gz\n",
    "Approx 35% complete for flexbarOut_barcode_KIFC1_4.fastq.gz\n",
    "Approx 40% complete for flexbarOut_barcode_KIFC1_4.fastq.gz\n",
    "Approx 45% complete for flexbarOut_barcode_KIFC1_4.fastq.gz\n",
    "Approx 50% complete for flexbarOut_barcode_KIFC1_4.fastq.gz\n",
    "Approx 55% complete for flexbarOut_barcode_KIFC1_4.fastq.gz\n",
    "Approx 60% complete for flexbarOut_barcode_KIFC1_4.fastq.gz\n",
    "Approx 65% complete for flexbarOut_barcode_KIFC1_4.fastq.gz\n",
    "Approx 70% complete for flexbarOut_barcode_KIFC1_4.fastq.gz\n",
    "Approx 75% complete for flexbarOut_barcode_KIFC1_4.fastq.gz\n",
    "Approx 80% complete for flexbarOut_barcode_KIFC1_4.fastq.gz\n",
    "Approx 85% complete for flexbarOut_barcode_KIFC1_4.fastq.gz\n",
    "Approx 90% complete for flexbarOut_barcode_KIFC1_4.fastq.gz\n",
    "Approx 95% complete for flexbarOut_barcode_KIFC1_4.fastq.gz\n",
    "Analysis complete for flexbarOut_barcode_KIFC1_4.fastq.gz\n",
    "Started analysis of flexbarOut_barcode_unassigned.fastq.gz\n",
    "Approx 5% complete for flexbarOut_barcode_unassigned.fastq.gz\n",
    "Approx 10% complete for flexbarOut_barcode_unassigned.fastq.gz\n",
    "Approx 15% complete for flexbarOut_barcode_unassigned.fastq.gz\n",
    "Approx 20% complete for flexbarOut_barcode_unassigned.fastq.gz\n",
    "Approx 25% complete for flexbarOut_barcode_unassigned.fastq.gz\n",
    "Approx 30% complete for flexbarOut_barcode_unassigned.fastq.gz\n",
    "Approx 35% complete for flexbarOut_barcode_unassigned.fastq.gz\n",
    "Approx 40% complete for flexbarOut_barcode_unassigned.fastq.gz\n",
    "Approx 45% complete for flexbarOut_barcode_unassigned.fastq.gz\n",
    "Approx 50% complete for flexbarOut_barcode_unassigned.fastq.gz\n",
    "Approx 55% complete for flexbarOut_barcode_unassigned.fastq.gz\n",
    "Approx 60% complete for flexbarOut_barcode_unassigned.fastq.gz\n",
    "Approx 65% complete for flexbarOut_barcode_unassigned.fastq.gz\n",
    "Approx 70% complete for flexbarOut_barcode_unassigned.fastq.gz\n",
    "Approx 75% complete for flexbarOut_barcode_unassigned.fastq.gz\n",
    "Approx 80% complete for flexbarOut_barcode_unassigned.fastq.gz\n",
    "Approx 85% complete for flexbarOut_barcode_unassigned.fastq.gz\n",
    "Approx 90% complete for flexbarOut_barcode_unassigned.fastq.gz\n",
    "Approx 95% complete for flexbarOut_barcode_unassigned.fastq.gz\n",
    "Analysis complete for flexbarOut_barcode_unassigned.fastq.gz\n"
   ]
  },
  {
   "cell_type": "markdown",
   "id": "2daedd05-e962-4915-92c9-8a1ed288f8d2",
   "metadata": {},
   "source": [
    "### rRNA removal"
   ]
  },
  {
   "cell_type": "code",
   "execution_count": null,
   "id": "576d07e4-c373-44f9-a42b-8cc3483876a3",
   "metadata": {},
   "outputs": [],
   "source": [
    "cd varshni\n",
    "mkdir remove_rRNA\n",
    "copy all the.fna files and .sh files from Simona to my folder\n",
    "cp /omics/odcf/analysis/OE0284_projects/clipseq/users/simona/TPX2_iCLIP2_2023/remove_rRNA/remove_rRNA/*.fna\n",
    "cp /omics/odcf/analysis/OE0284_projects/clipseq/users/simona/TPX2_iCLIP2_2023/remove_rRNA/remove_rRNA/*.sh"
   ]
  },
  {
   "cell_type": "code",
   "execution_count": null,
   "id": "aaae1a50-1908-4389-b82b-70c4ff3a3315",
   "metadata": {},
   "outputs": [],
   "source": [
    "From remove_rRNA, launch the remove_rRNA.sh script"
   ]
  },
  {
   "cell_type": "code",
   "execution_count": null,
   "id": "8ffe81ad-39a3-447a-be4b-0bf77f7133c0",
   "metadata": {},
   "outputs": [],
   "source": [
    "bsub -R \"rusage[mem=150G]\" -n 22 -W 24:00 -N -e remove_rRNA.error -o remove_rRNA.output bash remove_rRNA.sh"
   ]
  },
  {
   "cell_type": "code",
   "execution_count": null,
   "id": "e9df323c-29b7-491f-af25-4811970c2d25",
   "metadata": {},
   "outputs": [],
   "source": [
    "JOBID      USER    STAT  QUEUE      FROM_HOST   EXEC_HOST   JOB_NAME   SUBMIT_TIME\n",
    "19163460   v096l   RUN   verylong   odcf-vm133  odcf-cn22u1 *e_rRNA.sh Apr  4 14:51\n",
    "                                                odcf-cn22u11\n",
    "                                                odcf-cn22u11\n",
    "                                                odcf-cn22u11\n",
    "                                                odcf-cn22u11\n",
    "                                                odcf-cn22u11\n",
    "                                                odcf-cn22u11\n",
    "                                                odcf-cn22u11\n",
    "                                                odcf-cn22u11\n",
    "                                                odcf-cn22u11\n",
    "                                                odcf-cn22u11\n",
    "                                                odcf-cn22u11\n",
    "                                                odcf-cn22u11\n",
    "                                                odcf-cn22u11\n",
    "                                                odcf-cn22u11\n",
    "                                                odcf-cn22u11\n",
    "                                                odcf-cn22u11\n",
    "                                                odcf-cn22u11\n",
    "                                                odcf-cn22u11\n",
    "                                                odcf-cn22u11\n",
    "                                                odcf-cn22u11\n",
    "                                                odcf-cn22u11\n"
   ]
  },
  {
   "cell_type": "code",
   "execution_count": null,
   "id": "af34c66f-d41a-4aa6-9b2d-415addedf5fa",
   "metadata": {},
   "outputs": [],
   "source": [
    "Resource usage summary:\n",
    "\n",
    "    CPU time :                                   182696.64 sec.\n",
    "    Max Memory :                                 92848 MB\n",
    "    Average Memory :                             29823.53 MB\n",
    "    Total Requested Memory :                     153600.00 MB\n",
    "    Delta Memory :                               60752.00 MB\n",
    "    Max Swap :                                   -\n",
    "    Max Processes :                              15\n",
    "    Max Threads :                                69\n",
    "    Run time :                                   22569 sec.\n",
    "    Turnaround time :                            23368 sec.\n",
    "\n",
    "Read file <remove_rRNA.output> for stdout output of this job.\n",
    "Read file <remove_rRNA.error> for stderr output of this job.\n"
   ]
  },
  {
   "cell_type": "markdown",
   "id": "6995576e-e6ea-4418-84f2-c94ee969e301",
   "metadata": {},
   "source": [
    "### alignment"
   ]
  },
  {
   "cell_type": "code",
   "execution_count": null,
   "id": "a67e3359-98ee-4dcf-8789-de4148e9d17b",
   "metadata": {},
   "outputs": [],
   "source": [
    "cd varshni\n",
    "mkdir alignment\n",
    "copy alignment.sh script from Simona \n",
    "launch the script from alignment folder"
   ]
  },
  {
   "cell_type": "code",
   "execution_count": null,
   "id": "2e8fe91f-bf88-497e-969b-6f92b44aa658",
   "metadata": {},
   "outputs": [],
   "source": [
    "bsub -R \"rusage[mem=50G]\" -n 12 -W 24:00 -N -e alignment.error -o alignment.output bash alignment.sh"
   ]
  },
  {
   "cell_type": "code",
   "execution_count": null,
   "id": "16d64786-5ac4-4747-a983-0ebe73f4c96e",
   "metadata": {},
   "outputs": [],
   "source": [
    "Resource usage summary:\n",
    "\n",
    "    CPU time :                                   17888.00 sec.\n",
    "    Max Memory :                                 42971 MB\n",
    "    Average Memory :                             33889.04 MB\n",
    "    Total Requested Memory :                     51200.00 MB\n",
    "    Delta Memory :                               8229.00 MB\n",
    "    Max Swap :                                   -\n",
    "    Max Processes :                              6\n",
    "    Max Threads :                                133\n",
    "    Run time :                                   2643 sec.\n",
    "    Turnaround time :                            2644 sec.\n",
    "\n",
    "Read file <alignment.output> for stdout output of this job.\n",
    "Read file <alignment.error> for stderr output of this job.\n",
    "\n"
   ]
  },
  {
   "cell_type": "markdown",
   "id": "44e5fb66-e24c-40cd-b3a0-a21b07032e7b",
   "metadata": {},
   "source": [
    "###### readlengths\n"
   ]
  },
  {
   "cell_type": "code",
   "execution_count": null,
   "id": "0aefccbd-857d-43c4-8c6b-b8ce5ed77f6c",
   "metadata": {},
   "outputs": [],
   "source": [
    "cd alignment/subset_unique_multi\n",
    "cp /omics/odcf/analysis/OE0284_projects/clipseq/users/simona/TPX2_iCLIP2_2023/alignment/subset_unique_multi/readlengths.sh ."
   ]
  },
  {
   "cell_type": "code",
   "execution_count": null,
   "id": "9769026e-3c16-426a-9c53-cfcc382d63f7",
   "metadata": {},
   "outputs": [],
   "source": [
    "bsub -R \"rusage[mem=5G]\" -n 12 -W 12:00 -N -e readlengths.error -o readlengths.output bash readlengths.sh"
   ]
  },
  {
   "cell_type": "code",
   "execution_count": null,
   "id": "f6b0b31a-fb3b-41ae-904f-9f1a431894fc",
   "metadata": {},
   "outputs": [],
   "source": [
    "JOBID      USER    STAT  QUEUE      FROM_HOST   EXEC_HOST   JOB_NAME   SUBMIT_TIME\n",
    "19581155   v096l   RUN   verylong   odcf-vm133  abi-cn24u20 *engths.sh Apr 14 17:19\n",
    "                                                abi-cn24u20\n",
    "                                                abi-cn24u20\n",
    "                                                abi-cn24u20\n",
    "                                                abi-cn24u20\n",
    "                                                abi-cn24u20\n",
    "                                                abi-cn24u20\n",
    "                                                abi-cn24u20\n",
    "                                                abi-cn24u20\n",
    "                                                abi-cn24u20\n",
    "                                                abi-cn24u20\n",
    "                                                abi-cn24u20\n"
   ]
  },
  {
   "cell_type": "code",
   "execution_count": null,
   "id": "742db1ac-6944-4e8b-ab2b-87c80398016d",
   "metadata": {},
   "outputs": [],
   "source": [
    "Resource usage summary:\n",
    "\n",
    "    CPU time :                                   842.64 sec.\n",
    "    Max Memory :                                 11 MB\n",
    "    Average Memory :                             9.15 MB\n",
    "    Total Requested Memory :                     5120.00 MB\n",
    "    Delta Memory :                               5109.00 MB\n",
    "    Max Swap :                                   -\n",
    "    Max Processes :                              9\n",
    "    Max Threads :                                10\n",
    "    Run time :                                   630 sec.\n",
    "    Turnaround time :                            634 sec.\n",
    "\n",
    "Read file <readlengths.output> for stdout output of this job.\n",
    "Read file <readlengths.error> for stderr output of this job.\n"
   ]
  },
  {
   "cell_type": "markdown",
   "id": "9d79558f-1907-4673-8b94-71568d43f3f4",
   "metadata": {},
   "source": [
    "### Separating Unique and multi mapping reads"
   ]
  },
  {
   "cell_type": "code",
   "execution_count": null,
   "id": "82009dc2-03b2-441b-8517-e2776b9d3b71",
   "metadata": {},
   "outputs": [],
   "source": [
    "create a dirctory\n",
    "cd varshni/alignment\n",
    "mkdir subset_unique_multi\n",
    "copy the script subset_unique_multi.sh into the subset_unique_multi directory\n",
    "Lauch the script from subset_unique_multi directory"
   ]
  },
  {
   "cell_type": "code",
   "execution_count": null,
   "id": "53decb03-d44c-4f82-a158-7ef07a1e94f8",
   "metadata": {},
   "outputs": [],
   "source": [
    "bsub -R \"rusage[mem=2G]\" -n 8 -W 12:00 -N -e subset_unique_multi.error -o subset_unique_multi.output bash subset_unique_multi.sh"
   ]
  },
  {
   "cell_type": "code",
   "execution_count": null,
   "id": "2480ce53-1342-49be-92d7-6fb3cbd058b3",
   "metadata": {},
   "outputs": [],
   "source": [
    "Resource usage summary:\n",
    "\n",
    "    CPU time :                                   3822.88 sec.\n",
    "    Max Memory :                                 113 MB\n",
    "    Average Memory :                             10.43 MB\n",
    "    Total Requested Memory :                     2048.00 MB\n",
    "    Delta Memory :                               1935.00 MB\n",
    "    Max Swap :                                   -\n",
    "    Max Processes :                              5\n",
    "    Max Threads :                                6\n",
    "    Run time :                                   3769 sec.\n",
    "    Turnaround time :                            3772 sec.\n",
    "\n",
    "Read file <subset_unique_multi.output> for stdout output of this job.\n",
    "Read file <subset_unique_multi.error> for stderr output of this job.\n"
   ]
  },
  {
   "cell_type": "markdown",
   "id": "df652682-9cee-440b-8a22-5f88969fc11e",
   "metadata": {},
   "source": [
    "### Remove duplicates"
   ]
  },
  {
   "cell_type": "code",
   "execution_count": null,
   "id": "1a92cb17-29dd-4abd-9473-ef6702cc2f3a",
   "metadata": {},
   "outputs": [],
   "source": [
    "Make directory dup_remove\n",
    "cd varshni\n",
    "mkdir dup_remove\n",
    "cd dup_remove\n",
    "mkdir multimapping\n",
    "mkdir unique\n",
    "copy the script from Simonas multimapping  dup_remove.sh and file list_of_bam_files to multimapping \n",
    "copy the script from Simonas unique  dup_remove.sh and file list_of_bam_files to unique\n",
    "change the names and path \n",
    "lauch the script once from multimapping\n",
    "go to unique and launch it again from unique"
   ]
  },
  {
   "cell_type": "markdown",
   "id": "d32660b7-651b-474d-8034-6d0abe27eb2b",
   "metadata": {},
   "source": [
    "###### unique"
   ]
  },
  {
   "cell_type": "code",
   "execution_count": null,
   "id": "d4de1396-167d-44c1-8777-070a4b318e99",
   "metadata": {},
   "outputs": [],
   "source": [
    "bsub -R \"rusage[mem=10G]\" -n 24 -W 24:00 -N -e dup_remove.error -o dup_remove.output bash dup_remove.sh"
   ]
  },
  {
   "cell_type": "code",
   "execution_count": null,
   "id": "1f9fdba0-ece2-4283-9e2d-37e6771ee88e",
   "metadata": {},
   "outputs": [],
   "source": [
    "Resource usage summary:\n",
    "\n",
    "    CPU time :                                   1834.39 sec.\n",
    "    Max Memory :                                 1159 MB\n",
    "    Average Memory :                             226.24 MB\n",
    "    Total Requested Memory :                     10240.00 MB\n",
    "    Delta Memory :                               9081.00 MB\n",
    "    Max Swap :                                   -\n",
    "    Max Processes :                              5\n",
    "    Max Threads :                                6\n",
    "    Run time :                                   1846 sec.\n",
    "    Turnaround time :                            1846 sec.\n",
    "\n",
    "Read file <dup_remove.output> for stdout output of this job.\n",
    "Read file <dup_remove.error> for stderr output of this job.\n"
   ]
  },
  {
   "cell_type": "markdown",
   "id": "0898692e-9327-4411-826a-f05f8be62f1e",
   "metadata": {},
   "source": [
    "##### multimapping"
   ]
  },
  {
   "cell_type": "code",
   "execution_count": null,
   "id": "1d6c729f-cc07-402b-ac3f-ad96f3ce08a5",
   "metadata": {},
   "outputs": [],
   "source": [
    "bsub -R \"rusage[mem=10G]\" -n 24 -W 24:00 -N -e dup_remove.error -o dup_remove.output bash dup_remove.sh"
   ]
  },
  {
   "cell_type": "code",
   "execution_count": null,
   "id": "df142699-1d56-403c-95ef-415177582f47",
   "metadata": {},
   "outputs": [],
   "source": [
    "Resource usage summary:\n",
    "\n",
    "    CPU time :                                   7759.66 sec.\n",
    "    Max Memory :                                 4393 MB\n",
    "    Average Memory :                             982.95 MB\n",
    "    Total Requested Memory :                     10240.00 MB\n",
    "    Delta Memory :                               5847.00 MB\n",
    "    Max Swap :                                   -\n",
    "    Max Processes :                              5\n",
    "    Max Threads :                                6\n",
    "    Run time :                                   7810 sec.\n",
    "    Turnaround time :                            7810 sec.\n",
    "\n",
    "Read file <dup_remove.output> for stdout output of this job.\n",
    "Read file <dup_remove.error> for stderr output of this job.\n"
   ]
  },
  {
   "cell_type": "markdown",
   "id": "527d182f-b611-4c92-b8f6-6e767fff0635",
   "metadata": {},
   "source": [
    "### Extraction of crosslinked nucleotides"
   ]
  },
  {
   "cell_type": "markdown",
   "id": "8ccf4841-2634-4089-b1fc-869bdd34a475",
   "metadata": {},
   "source": [
    "###### Unique"
   ]
  },
  {
   "cell_type": "code",
   "execution_count": null,
   "id": "2693ee17-6a23-468c-9d49-0b40b85b1306",
   "metadata": {},
   "outputs": [],
   "source": [
    "cd varshni\n",
    "mkdir crosslink_nt\n",
    "cd crosslink_nt\n",
    "mkdir multimapping\n",
    "mkdir unique\n",
    "cd unique\n",
    "copy the scripts from Simona into this directory\n",
    "cp /omics/odcf/analysis/OE0284_projects/clipseq/users/simona/TPX2_iCLIP2_2023/crosslink_nt/unique/crosslink_nt.sh .\n",
    "cp /omics/odcf/analysis/OE0284_projects/clipseq/users/simona/TPX2_iCLIP2_2023/crosslink_nt/unique/crosslink_nt_merged.sh .\n",
    "Change the path and file name  and lauch both the scripts one after the other under crosslink_nt/unique"
   ]
  },
  {
   "cell_type": "code",
   "execution_count": null,
   "id": "4e29cba9-f9cf-499a-96d2-ce9f83cd3a1a",
   "metadata": {},
   "outputs": [],
   "source": [
    "bsub -R \"rusage[mem=50G]\" -n 12 -W 24:00 -N -e crosslink_nt.error -o crosslink_nt.output bash crosslink_nt.sh"
   ]
  },
  {
   "cell_type": "code",
   "execution_count": null,
   "id": "f690d26f-f702-49d6-8c2f-61e90288b297",
   "metadata": {},
   "outputs": [],
   "source": [
    "Resource usage summary:\n",
    "\n",
    "    CPU time :                                   2920.85 sec.\n",
    "    Max Memory :                                 4996 MB\n",
    "    Average Memory :                             1081.81 MB\n",
    "    Total Requested Memory :                     51200.00 MB\n",
    "    Delta Memory :                               46204.00 MB\n",
    "    Max Swap :                                   -\n",
    "    Max Processes :                              6\n",
    "    Max Threads :                                12\n",
    "    Run time :                                   1377 sec.\n",
    "    Turnaround time :                            1380 sec.\n",
    "\n",
    "Read file <crosslink_nt.output> for stdout output of this job.\n",
    "Read file <crosslink_nt.error> for stderr output of this job.\n"
   ]
  },
  {
   "cell_type": "code",
   "execution_count": null,
   "id": "968d2d3e-8a14-46bc-b801-a80d8925175a",
   "metadata": {},
   "outputs": [],
   "source": [
    "bsub -R \"rusage[mem=4G]\" -n 12 -W 12:00 -N -e crosslink_nt_merged.error -o crosslink_nt_merged.output bash crosslink_nt_merged.sh"
   ]
  },
  {
   "cell_type": "code",
   "execution_count": null,
   "id": "03c35635-7757-47f7-96b0-4a0a7f67a191",
   "metadata": {},
   "outputs": [],
   "source": [
    "Resource usage summary:\n",
    "\n",
    "    CPU time :                                   967.92 sec.\n",
    "    Max Memory :                                 3805 MB\n",
    "    Average Memory :                             747.01 MB\n",
    "    Total Requested Memory :                     4096.00 MB\n",
    "    Delta Memory :                               291.00 MB\n",
    "    Max Swap :                                   -\n",
    "    Max Processes :                              5\n",
    "    Max Threads :                                12\n",
    "    Run time :                                   481 sec.\n",
    "    Turnaround time :                            485 sec.\n",
    "\n",
    "Read file <crosslink_nt_merged.output> for stdout output of this job.\n",
    "Read file <crosslink_nt_merged.error> for stderr output of this job.\n"
   ]
  },
  {
   "cell_type": "markdown",
   "id": "16901de4-0762-4cdf-814b-02b146f967be",
   "metadata": {},
   "source": [
    "###### Multimapping"
   ]
  },
  {
   "cell_type": "code",
   "execution_count": null,
   "id": "f6403d3e-4918-4db8-8767-00e6d7674e0d",
   "metadata": {},
   "outputs": [],
   "source": [
    "cd varshni/crosslink_nt/multimapping\n",
    "copy the scripts from Simona into this directory\n",
    "cp /omics/odcf/analysis/OE0284_projects/clipseq/users/simona/TPX2_iCLIP2_2023/crosslink_nt/multimapping/crosslink_nt.sh .\n",
    "cp /omics/odcf/analysis/OE0284_projects/clipseq/users/simona/TPX2_iCLIP2_2023/crosslink_nt/multimapping/crosslink_nt_merged.sh .\n",
    "Change the path and file name  and lauch both the scripts one after the other under crosslink_nt/multimapping"
   ]
  },
  {
   "cell_type": "code",
   "execution_count": null,
   "id": "98318fca-d351-4712-afeb-593b3b46f5e4",
   "metadata": {},
   "outputs": [],
   "source": [
    "bsub -R \"rusage[mem=50G]\" -n 12 -W 24:00 -N -e crosslink_nt.error -o crosslink_nt.output bash crosslink_nt.sh"
   ]
  },
  {
   "cell_type": "code",
   "execution_count": null,
   "id": "fddab7b5-eb68-4bb6-9ba5-dbb4da53edb8",
   "metadata": {},
   "outputs": [],
   "source": [
    "Resource usage summary:\n",
    "\n",
    "    CPU time :                                   6587.19 sec.\n",
    "    Max Memory :                                 4242 MB\n",
    "    Average Memory :                             837.78 MB\n",
    "    Total Requested Memory :                     51200.00 MB\n",
    "    Delta Memory :                               46958.00 MB\n",
    "    Max Swap :                                   -\n",
    "    Max Processes :                              6\n",
    "    Max Threads :                                12\n",
    "    Run time :                                   3960 sec.\n",
    "    Turnaround time :                            3966 sec.\n",
    "\n",
    "Read file <crosslink_nt.output> for stdout output of this job.\n",
    "Read file <crosslink_nt.error> for stderr output of this job.\n"
   ]
  },
  {
   "cell_type": "code",
   "execution_count": null,
   "id": "67890b5a-b73a-4a99-a677-f4370fa1a485",
   "metadata": {},
   "outputs": [],
   "source": [
    "bsub -R \"rusage[mem=4G]\" -n 12 -W 12:00 -N -e crosslink_nt_merged.error -o crosslink_nt_merged.output bash crosslink_nt_merged.sh"
   ]
  },
  {
   "cell_type": "code",
   "execution_count": null,
   "id": "1cc53eb7-ae68-4016-a2d2-32cfc6a74d00",
   "metadata": {},
   "outputs": [],
   "source": [
    "Resource usage summary:\n",
    "\n",
    "    CPU time :                                   2182.02 sec.\n",
    "    Max Memory :                                 3805 MB\n",
    "    Average Memory :                             514.01 MB\n",
    "    Total Requested Memory :                     4096.00 MB\n",
    "    Delta Memory :                               291.00 MB\n",
    "    Max Swap :                                   -\n",
    "    Max Processes :                              5\n",
    "    Max Threads :                                12\n",
    "    Run time :                                   1457 sec.\n",
    "    Turnaround time :                            1460 sec.\n",
    "\n",
    "Read file <crosslink_nt_merged.output> for stdout output of this job.\n",
    "Read file <crosslink_nt_merged.error> for stderr output of this job.\n"
   ]
  },
  {
   "cell_type": "markdown",
   "id": "11cfddff-01be-47ec-b826-251d9984f4d6",
   "metadata": {},
   "source": [
    "### PureCLIP"
   ]
  },
  {
   "cell_type": "code",
   "execution_count": null,
   "id": "61607429-42c5-44d6-8621-50f9698791e1",
   "metadata": {},
   "outputs": [],
   "source": [
    "cd varshni\n",
    "mkdir PureCLIP \n",
    "cd PureCLIP\n",
    "mkdir unique\n",
    "mkdir /unique/\n",
    "copy the scripts from Simona into this directory\n",
    "cd multimapping\n",
    "cp /omics/odcf/analysis/OE0284_projects/clipseq/users/simona/TPX2_iCLIP2_2023/PureCLIP/multimapping/pureclip .\n",
    "cd ..\n",
    "cd unique\n",
    "cp /omics/odcf/analysis/OE0284_projects/clipseq/users/simona/TPX2_iCLIP2_2023/PureCLIP/unique/pureclip .\n",
    "Change the path and file name  and lauch both the scripts one after the other under PureCLIP/multimapping and then from unique"
   ]
  },
  {
   "cell_type": "markdown",
   "id": "1b2309f6-acdf-44aa-8ba2-e9776c18b0d2",
   "metadata": {},
   "source": [
    "###### unique"
   ]
  },
  {
   "cell_type": "code",
   "execution_count": null,
   "id": "42c13fde-cf1b-4e97-9b2a-d3ebba2e57ca",
   "metadata": {},
   "outputs": [],
   "source": [
    "bsub -R \"rusage[mem=200G]\" -n 12 -W 24:00 -N -e pureclip.error -o pureclip.output bash pureclip.sh"
   ]
  },
  {
   "cell_type": "code",
   "execution_count": null,
   "id": "6f3b4874-f1b8-4488-91ad-baf315b3cfa4",
   "metadata": {},
   "outputs": [],
   "source": [
    "Resource usage summary:\n",
    "\n",
    "    CPU time :                                   362319.56 sec.\n",
    "    Max Memory :                                 161038 MB\n",
    "    Average Memory :                             109622.64 MB\n",
    "    Total Requested Memory :                     204800.00 MB\n",
    "    Delta Memory :                               43762.00 MB\n",
    "    Max Swap :                                   1 MB\n",
    "    Max Processes :                              5\n",
    "    Max Threads :                                20\n",
    "    Run time :                                   49012 sec.\n",
    "    Turnaround time :                            55469 sec.\n",
    "\n",
    "Read file <pureclip.output> for stdout output of this job.\n",
    "Read file <pureclip.error> for stderr output of this job.\n"
   ]
  },
  {
   "cell_type": "markdown",
   "id": "bdde978c-1752-4449-bcbf-b18108f5ba88",
   "metadata": {},
   "source": [
    "###### multimapping"
   ]
  },
  {
   "cell_type": "code",
   "execution_count": null,
   "id": "ef49849e-253a-4f26-a768-de9898807c1a",
   "metadata": {},
   "outputs": [],
   "source": [
    "bsub -R \"rusage[mem=250G]\" -q highmem -n 12 -W 24:00 -N -e pureclip.error -o pureclip.output bash pureclip.sh"
   ]
  },
  {
   "cell_type": "code",
   "execution_count": null,
   "id": "7439d93a-ac25-4571-a196-a580efd1fed4",
   "metadata": {},
   "outputs": [],
   "source": [
    "Resource usage summary:\n",
    "\n",
    "    CPU time :                                   320577.97 sec.\n",
    "    Max Memory :                                 413189 MB\n",
    "    Average Memory :                             251128.12 MB\n",
    "    Total Requested Memory :                     512000.00 MB\n",
    "    Delta Memory :                               98811.00 MB\n",
    "    Max Swap :                                   -\n",
    "    Max Processes :                              5\n",
    "    Max Threads :                                20\n",
    "    Run time :                                   47379 sec.\n",
    "    Turnaround time :                            83960 sec.\n",
    "\n",
    "Read file <pureclip.output> for stdout output of this job.\n",
    "Read file <pureclip.error> for stderr output of this job.\n",
    "\n"
   ]
  },
  {
   "cell_type": "markdown",
   "id": "1f14c702-e510-4601-9679-b72cf3a60e95",
   "metadata": {},
   "source": [
    "### Diagnostics in crosslink_nt"
   ]
  },
  {
   "cell_type": "code",
   "execution_count": null,
   "id": "57ac7905-18b1-48c0-9ac8-4d1b89af69d8",
   "metadata": {},
   "outputs": [],
   "source": [
    "cd varshni/crosslink_nt/unique\n",
    "mkdir diagnostics\n",
    "cd diagnostics\n",
    "cp /omics/odcf/analysis/OE0284_projects/clipseq/users/simona/TPX2_iCLIP2_2023/crosslink_nt/unique/diagnostics/diagnostics.sh .\n",
    "cd ..\n",
    "cd crosslink_nt/multimapping\n",
    "mkdir diagnostics\n",
    "cd diagnostics\n",
    "cp /omics/odcf/analysis/OE0284_projects/clipseq/users/simona/TPX2_iCLIP2_2023/crosslink_nt/multimapping/diagnostics/diagnostics.sh .\n",
    "launch the script first from crosslink_nt/unique/diagnostics and then from crosslink_nt/multimapping/diagnostics"
   ]
  },
  {
   "cell_type": "markdown",
   "id": "a8bd1c32-6c7c-47a5-b91f-77d05a758985",
   "metadata": {},
   "source": [
    "###### unique"
   ]
  },
  {
   "cell_type": "code",
   "execution_count": null,
   "id": "bc4e0952-0907-4d2f-85f1-55181c7c4d37",
   "metadata": {},
   "outputs": [],
   "source": [
    "bsub -R \"rusage[mem=50G]\" -n 8 -W 12:00 -N -e diagnostics.error -o diagnostics.output bash diagnostics.sh"
   ]
  },
  {
   "cell_type": "code",
   "execution_count": null,
   "id": "88c3af06-0595-4e19-9c8c-f80bc86b5527",
   "metadata": {},
   "outputs": [],
   "source": [
    "Resource usage summary:\n",
    "\n",
    "    CPU time :                                   281.25 sec.\n",
    "    Max Memory :                                 7 MB\n",
    "    Average Memory :                             6.81 MB\n",
    "    Total Requested Memory :                     51200.00 MB\n",
    "    Delta Memory :                               51193.00 MB\n",
    "    Max Swap :                                   -\n",
    "    Max Processes :                              5\n",
    "    Max Threads :                                6\n",
    "    Run time :                                   245 sec.\n",
    "    Turnaround time :                            247 sec.\n",
    "\n",
    "Read file <diagnostics.output> for stdout output of this job.\n",
    "Read file <diagnostics.error> for stderr output of this job.\n"
   ]
  },
  {
   "cell_type": "markdown",
   "id": "60ff3e42-4692-426b-b006-9f975bab5de5",
   "metadata": {},
   "source": [
    "###### multimapping"
   ]
  },
  {
   "cell_type": "code",
   "execution_count": null,
   "id": "f842d41c-efca-403f-9127-f923e026103e",
   "metadata": {},
   "outputs": [],
   "source": [
    "bsub -R \"rusage[mem=100G]\" -n 12 -W 24:00 -N -e diagnostics.error -o diagnostics.output bash diagnostics.sh"
   ]
  },
  {
   "cell_type": "code",
   "execution_count": null,
   "id": "e0032917-5c84-4fc5-9e81-18bafc07f034",
   "metadata": {},
   "outputs": [],
   "source": [
    "Resource usage summary:\n",
    "\n",
    "    CPU time :                                   139.12 sec.\n",
    "    Max Memory :                                 7 MB\n",
    "    Average Memory :                             7.00 MB\n",
    "    Total Requested Memory :                     102400.00 MB\n",
    "    Delta Memory :                               102393.00 MB\n",
    "    Max Swap :                                   -\n",
    "    Max Processes :                              5\n",
    "    Max Threads :                                6\n",
    "    Run time :                                   133 sec.\n",
    "    Turnaround time :                            295 sec.\n",
    "\n",
    "Read file <diagnostics.output> for stdout output of this job.\n",
    "Read file <diagnostics.error> for stderr output of this job.\n"
   ]
  }
 ],
 "metadata": {
  "kernelspec": {
   "display_name": "Bash",
   "language": "bash",
   "name": "bash"
  },
  "language_info": {
   "codemirror_mode": "shell",
   "file_extension": ".sh",
   "mimetype": "text/x-sh",
   "name": "bash"
  }
 },
 "nbformat": 4,
 "nbformat_minor": 5
}
